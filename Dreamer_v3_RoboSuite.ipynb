{
  "nbformat": 4,
  "nbformat_minor": 0,
  "metadata": {
    "colab": {
      "provenance": [],
      "gpuType": "T4",
      "authorship_tag": "ABX9TyOk1hHD9J/2dSAI3d77awqR",
      "include_colab_link": true
    },
    "kernelspec": {
      "name": "python3",
      "display_name": "Python 3"
    },
    "language_info": {
      "name": "python"
    },
    "accelerator": "GPU"
  },
  "cells": [
    {
      "cell_type": "markdown",
      "metadata": {
        "id": "view-in-github",
        "colab_type": "text"
      },
      "source": [
        "<a href=\"https://colab.research.google.com/github/FarStryke21/NaturalDreamer/blob/main/Dreamer_v3_RoboSuite.ipynb\" target=\"_parent\"><img src=\"https://colab.research.google.com/assets/colab-badge.svg\" alt=\"Open In Colab\"/></a>"
      ]
    },
    {
      "cell_type": "code",
      "execution_count": 1,
      "metadata": {
        "id": "d7pGBxXoixhv",
        "collapsed": true,
        "colab": {
          "base_uri": "https://localhost:8080/"
        },
        "outputId": "8d65336c-1934-450b-f5ab-593f10029f65"
      },
      "outputs": [
        {
          "output_type": "stream",
          "name": "stdout",
          "text": [
            "fatal: destination path 'NaturalDreamer' already exists and is not an empty directory.\n",
            "/content/NaturalDreamer\n"
          ]
        }
      ],
      "source": [
        "# Clone the Natural Dreamer repository\n",
        "\n",
        "!git clone https://github.com/FarStryke21/NaturalDreamer.git\n",
        "\n",
        "%cd /content/NaturalDreamer/"
      ]
    },
    {
      "cell_type": "code",
      "source": [
        "!pip install robosuite attridict"
      ],
      "metadata": {
        "collapsed": true,
        "colab": {
          "base_uri": "https://localhost:8080/"
        },
        "id": "eLYRcvCPkzDP",
        "outputId": "dcbdfe99-4846-474e-9434-18a648c217b6"
      },
      "execution_count": 2,
      "outputs": [
        {
          "output_type": "stream",
          "name": "stdout",
          "text": [
            "Requirement already satisfied: robosuite in /usr/local/lib/python3.11/dist-packages (1.5.1)\n",
            "Requirement already satisfied: attridict in /usr/local/lib/python3.11/dist-packages (0.0.9)\n",
            "Requirement already satisfied: numpy>=1.13.3 in /usr/local/lib/python3.11/dist-packages (from robosuite) (2.0.2)\n",
            "Requirement already satisfied: numba>=0.49.1 in /usr/local/lib/python3.11/dist-packages (from robosuite) (0.60.0)\n",
            "Requirement already satisfied: scipy>=1.2.3 in /usr/local/lib/python3.11/dist-packages (from robosuite) (1.15.3)\n",
            "Requirement already satisfied: mujoco>=3.2.3 in /usr/local/lib/python3.11/dist-packages (from robosuite) (3.3.2)\n",
            "Requirement already satisfied: mink>=0.0.5 in /usr/local/lib/python3.11/dist-packages (from robosuite) (0.0.10)\n",
            "Requirement already satisfied: Pillow in /usr/local/lib/python3.11/dist-packages (from robosuite) (11.2.1)\n",
            "Requirement already satisfied: opencv-python in /usr/local/lib/python3.11/dist-packages (from robosuite) (4.11.0.86)\n",
            "Requirement already satisfied: pynput in /usr/local/lib/python3.11/dist-packages (from robosuite) (1.8.1)\n",
            "Requirement already satisfied: termcolor in /usr/local/lib/python3.11/dist-packages (from robosuite) (3.1.0)\n",
            "Requirement already satisfied: pytest in /usr/local/lib/python3.11/dist-packages (from robosuite) (8.3.5)\n",
            "Requirement already satisfied: tqdm in /usr/local/lib/python3.11/dist-packages (from robosuite) (4.67.1)\n",
            "Requirement already satisfied: PyYAML==6.0.1 in /usr/local/lib/python3.11/dist-packages (from attridict) (6.0.1)\n",
            "Requirement already satisfied: qpsolvers>=4.3.1 in /usr/local/lib/python3.11/dist-packages (from qpsolvers[daqp]>=4.3.1->mink>=0.0.5->robosuite) (4.7.0)\n",
            "Requirement already satisfied: typing_extensions in /usr/local/lib/python3.11/dist-packages (from mink>=0.0.5->robosuite) (4.13.2)\n",
            "Requirement already satisfied: absl-py in /usr/local/lib/python3.11/dist-packages (from mujoco>=3.2.3->robosuite) (1.4.0)\n",
            "Requirement already satisfied: etils[epath] in /usr/local/lib/python3.11/dist-packages (from mujoco>=3.2.3->robosuite) (1.12.2)\n",
            "Requirement already satisfied: glfw in /usr/local/lib/python3.11/dist-packages (from mujoco>=3.2.3->robosuite) (2.9.0)\n",
            "Requirement already satisfied: pyopengl in /usr/local/lib/python3.11/dist-packages (from mujoco>=3.2.3->robosuite) (3.1.9)\n",
            "Requirement already satisfied: llvmlite<0.44,>=0.43.0dev0 in /usr/local/lib/python3.11/dist-packages (from numba>=0.49.1->robosuite) (0.43.0)\n",
            "Requirement already satisfied: six in /usr/local/lib/python3.11/dist-packages (from pynput->robosuite) (1.17.0)\n",
            "Requirement already satisfied: evdev>=1.3 in /usr/local/lib/python3.11/dist-packages (from pynput->robosuite) (1.9.2)\n",
            "Requirement already satisfied: python-xlib>=0.17 in /usr/local/lib/python3.11/dist-packages (from pynput->robosuite) (0.33)\n",
            "Requirement already satisfied: iniconfig in /usr/local/lib/python3.11/dist-packages (from pytest->robosuite) (2.1.0)\n",
            "Requirement already satisfied: packaging in /usr/local/lib/python3.11/dist-packages (from pytest->robosuite) (24.2)\n",
            "Requirement already satisfied: pluggy<2,>=1.5 in /usr/local/lib/python3.11/dist-packages (from pytest->robosuite) (1.5.0)\n",
            "Requirement already satisfied: daqp>=0.5.1 in /usr/local/lib/python3.11/dist-packages (from qpsolvers[daqp]>=4.3.1->mink>=0.0.5->robosuite) (0.7.1)\n",
            "Requirement already satisfied: fsspec in /usr/local/lib/python3.11/dist-packages (from etils[epath]->mujoco>=3.2.3->robosuite) (2025.3.2)\n",
            "Requirement already satisfied: importlib_resources in /usr/local/lib/python3.11/dist-packages (from etils[epath]->mujoco>=3.2.3->robosuite) (6.5.2)\n",
            "Requirement already satisfied: zipp in /usr/local/lib/python3.11/dist-packages (from etils[epath]->mujoco>=3.2.3->robosuite) (3.21.0)\n"
          ]
        }
      ]
    },
    {
      "cell_type": "code",
      "source": [
        "import gymnasium as gym # For wrappers\n",
        "import torch\n",
        "import argparse\n",
        "import os\n",
        "from tqdm import tqdm\n",
        "\n",
        "# Robosuite imports\n",
        "import robosuite as suite\n",
        "from robosuite.wrappers import GymWrapper\n",
        "\n",
        "# Project-specific imports\n",
        "from dreamer import Dreamer\n",
        "from utils import loadConfig, seedEverything, plotMetrics, saveLossesToCSV, ensureParentFolders\n",
        "from envs import getEnvProperties, GymPixelsProcessingWrapper, CleanGymWrapper, ImageExtractWrapper # Using getEnvProperties from envs.py\n"
      ],
      "metadata": {
        "collapsed": true,
        "colab": {
          "base_uri": "https://localhost:8080/"
        },
        "id": "WCbX6P2XklGx",
        "outputId": "b965a6d2-d70f-4a1c-b5e5-d4c5c410b7a0"
      },
      "execution_count": 3,
      "outputs": [
        {
          "output_type": "stream",
          "name": "stderr",
          "text": [
            "[robosuite WARNING] No private macro file found! (macros.py:53)\n",
            "WARNING:robosuite_logs:No private macro file found!\n",
            "[robosuite WARNING] It is recommended to use a private macro file (macros.py:54)\n",
            "WARNING:robosuite_logs:It is recommended to use a private macro file\n",
            "[robosuite WARNING] To setup, run: python /usr/local/lib/python3.11/dist-packages/robosuite/scripts/setup_macros.py (macros.py:55)\n",
            "WARNING:robosuite_logs:To setup, run: python /usr/local/lib/python3.11/dist-packages/robosuite/scripts/setup_macros.py\n",
            "[robosuite WARNING] Could not import robosuite_models. Some robots may not be available. If you want to use these robots, please install robosuite_models from source (https://github.com/ARISE-Initiative/robosuite_models) or through pip install. (__init__.py:30)\n",
            "WARNING:robosuite_logs:Could not import robosuite_models. Some robots may not be available. If you want to use these robots, please install robosuite_models from source (https://github.com/ARISE-Initiative/robosuite_models) or through pip install.\n",
            "[robosuite WARNING] Could not load the mink-based whole-body IK. Make sure you install related import properly, otherwise you will not be able to use the default IK controller setting for GR1 robot. (__init__.py:40)\n",
            "WARNING:robosuite_logs:Could not load the mink-based whole-body IK. Make sure you install related import properly, otherwise you will not be able to use the default IK controller setting for GR1 robot.\n"
          ]
        }
      ]
    },
    {
      "cell_type": "code",
      "source": [
        "device = torch.device(\"cuda\" if torch.cuda.is_available() else \"cpu\")\n",
        "print(f\"Using device: {device}\")"
      ],
      "metadata": {
        "colab": {
          "base_uri": "https://localhost:8080/"
        },
        "id": "UCqdB28Blmzm",
        "outputId": "c70d2686-8e82-4d43-d677-3dbfceab9fc7"
      },
      "execution_count": 4,
      "outputs": [
        {
          "output_type": "stream",
          "name": "stdout",
          "text": [
            "Using device: cuda\n"
          ]
        }
      ]
    },
    {
      "cell_type": "code",
      "source": [
        "# Load experiment config\n",
        "configFile = \"robosuite-lift-panda.yml\"\n",
        "config = loadConfig(configFile)"
      ],
      "metadata": {
        "id": "koH01dgMl7ur"
      },
      "execution_count": 5,
      "outputs": []
    },
    {
      "cell_type": "code",
      "source": [
        "# Set seed through the environment\n",
        "seedEverything(config.seed)\n",
        "print(f\"Loaded config from file: {configFile}\")\n",
        "print(f\"Using seed: {config.seed}\")"
      ],
      "metadata": {
        "colab": {
          "base_uri": "https://localhost:8080/"
        },
        "id": "sWnvbQ0YmiHI",
        "outputId": "c34672c8-1fce-406b-bcc6-cf13e21647f1"
      },
      "execution_count": 6,
      "outputs": [
        {
          "output_type": "stream",
          "name": "stdout",
          "text": [
            "Loaded config from file: robosuite-lift-panda.yml\n",
            "Using seed: 1234\n"
          ]
        }
      ]
    },
    {
      "cell_type": "code",
      "source": [
        "# Setup files and folder logging\n",
        "\n",
        "runName = f\"{config.environmentName}_{config.robotName}_{config.runName}\"\n",
        "\n",
        "# Define paths for checkpoints, metrics, plots, and videos\n",
        "checkpointFolder = os.path.join(config.folderNames.checkpointsFolder, runName)\n",
        "metricsFilename = os.path.join(config.folderNames.metricsFolder, f\"{runName}.csv\")\n",
        "plotFilename = os.path.join(config.folderNames.plotsFolder, f\"{runName}.html\")\n",
        "checkpointFilenameBase = os.path.join(checkpointFolder, runName) # Checkpoints will be saved in a subfolder per run\n",
        "videoFilenameBase = os.path.join(config.folderNames.videosFolder, runName)\n",
        "\n",
        "# Ensure parent directories for all output files exist\n",
        "ensureParentFolders(metricsFilename, plotFilename, checkpointFilenameBase, videoFilenameBase)\n",
        "print(f\"Run name: {runName}\")\n",
        "print(f\"Metrics will be saved to: {metricsFilename}\")\n",
        "print(f\"Plots will be saved to: {plotFilename}\")\n",
        "print(f\"Checkpoints will be saved to: {checkpointFolder}\")\n",
        "print(f\"Videos will be saved to: {config.folderNames.videosFolder}\")\n"
      ],
      "metadata": {
        "colab": {
          "base_uri": "https://localhost:8080/"
        },
        "id": "Hs8T4Z7emwJn",
        "outputId": "648740d8-1094-44a6-8d2f-e23b953f6fba"
      },
      "execution_count": 7,
      "outputs": [
        {
          "output_type": "stream",
          "name": "stdout",
          "text": [
            "Run name: Lift_Panda_lift_panda_test\n",
            "Metrics will be saved to: metrics/Lift_Panda_lift_panda_test.csv\n",
            "Plots will be saved to: plots/Lift_Panda_lift_panda_test.html\n",
            "Checkpoints will be saved to: checkpoints/Lift_Panda_lift_panda_test\n",
            "Videos will be saved to: videos\n"
          ]
        }
      ]
    },
    {
      "cell_type": "code",
      "source": [
        "print(\"Initializing Robosuite training environment...\")\n",
        "robosuite_env_train = suite.make(\n",
        "    env_name=config.environmentName,\n",
        "    robots=config.robotName,\n",
        "    controller_configs=suite.load_composite_controller_config(controller=config.controllerName),\n",
        "    has_renderer=False,  # No on-screen rendering for training\n",
        "    has_offscreen_renderer=config.useCameraObs, # True if using camera observations for the encoder\n",
        "    use_camera_obs=config.useCameraObs,\n",
        "    camera_names=config.cameraName,\n",
        "    camera_heights=config.cameraHeight, # Robosuite will render at this resolution\n",
        "    camera_widths=config.cameraWidth,\n",
        "    reward_shaping=config.rewardShaping,\n",
        "    control_freq=config.controlFreq,\n",
        "    horizon=config.horizon,\n",
        ")\n",
        "\n",
        "train_env_keys = [f\"{config.cameraName}_image\"]\n",
        "env = GymWrapper(robosuite_env_train, keys=train_env_keys, flatten_obs=False)\n"
      ],
      "metadata": {
        "collapsed": true,
        "colab": {
          "base_uri": "https://localhost:8080/"
        },
        "id": "thJZlGPHnE4W",
        "outputId": "7f5c5c0e-0d13-4966-947e-44b23c58b361"
      },
      "execution_count": 15,
      "outputs": [
        {
          "output_type": "stream",
          "name": "stderr",
          "text": [
            "[robosuite INFO] Loading controller configuration from: /usr/local/lib/python3.11/dist-packages/robosuite/controllers/config/default/composite/basic.json (composite_controller_factory.py:121)\n",
            "INFO:robosuite_logs:Loading controller configuration from: /usr/local/lib/python3.11/dist-packages/robosuite/controllers/config/default/composite/basic.json\n"
          ]
        },
        {
          "output_type": "stream",
          "name": "stdout",
          "text": [
            "Initializing Robosuite training environment...\n"
          ]
        },
        {
          "output_type": "stream",
          "name": "stderr",
          "text": [
            "[robosuite WARNING] The config has defined for the controller \"left\", but the robot does not have this component. Skipping, but make sure this is intended.Removing the controller config for left from self.part_controller_config. (robot.py:151)\n",
            "WARNING:robosuite_logs:The config has defined for the controller \"left\", but the robot does not have this component. Skipping, but make sure this is intended.Removing the controller config for left from self.part_controller_config.\n",
            "[robosuite WARNING] The config has defined for the controller \"torso\", but the robot does not have this component. Skipping, but make sure this is intended.Removing the controller config for torso from self.part_controller_config. (robot.py:151)\n",
            "WARNING:robosuite_logs:The config has defined for the controller \"torso\", but the robot does not have this component. Skipping, but make sure this is intended.Removing the controller config for torso from self.part_controller_config.\n",
            "[robosuite WARNING] The config has defined for the controller \"head\", but the robot does not have this component. Skipping, but make sure this is intended.Removing the controller config for head from self.part_controller_config. (robot.py:151)\n",
            "WARNING:robosuite_logs:The config has defined for the controller \"head\", but the robot does not have this component. Skipping, but make sure this is intended.Removing the controller config for head from self.part_controller_config.\n",
            "[robosuite WARNING] The config has defined for the controller \"base\", but the robot does not have this component. Skipping, but make sure this is intended.Removing the controller config for base from self.part_controller_config. (robot.py:151)\n",
            "WARNING:robosuite_logs:The config has defined for the controller \"base\", but the robot does not have this component. Skipping, but make sure this is intended.Removing the controller config for base from self.part_controller_config.\n",
            "[robosuite WARNING] The config has defined for the controller \"legs\", but the robot does not have this component. Skipping, but make sure this is intended.Removing the controller config for legs from self.part_controller_config. (robot.py:151)\n",
            "WARNING:robosuite_logs:The config has defined for the controller \"legs\", but the robot does not have this component. Skipping, but make sure this is intended.Removing the controller config for legs from self.part_controller_config.\n",
            "[robosuite WARNING] The config has defined for the controller \"left\", but the robot does not have this component. Skipping, but make sure this is intended.Removing the controller config for left from self.part_controller_config. (robot.py:151)\n",
            "WARNING:robosuite_logs:The config has defined for the controller \"left\", but the robot does not have this component. Skipping, but make sure this is intended.Removing the controller config for left from self.part_controller_config.\n",
            "[robosuite WARNING] The config has defined for the controller \"torso\", but the robot does not have this component. Skipping, but make sure this is intended.Removing the controller config for torso from self.part_controller_config. (robot.py:151)\n",
            "WARNING:robosuite_logs:The config has defined for the controller \"torso\", but the robot does not have this component. Skipping, but make sure this is intended.Removing the controller config for torso from self.part_controller_config.\n",
            "[robosuite WARNING] The config has defined for the controller \"head\", but the robot does not have this component. Skipping, but make sure this is intended.Removing the controller config for head from self.part_controller_config. (robot.py:151)\n",
            "WARNING:robosuite_logs:The config has defined for the controller \"head\", but the robot does not have this component. Skipping, but make sure this is intended.Removing the controller config for head from self.part_controller_config.\n",
            "[robosuite WARNING] The config has defined for the controller \"base\", but the robot does not have this component. Skipping, but make sure this is intended.Removing the controller config for base from self.part_controller_config. (robot.py:151)\n",
            "WARNING:robosuite_logs:The config has defined for the controller \"base\", but the robot does not have this component. Skipping, but make sure this is intended.Removing the controller config for base from self.part_controller_config.\n",
            "[robosuite WARNING] The config has defined for the controller \"legs\", but the robot does not have this component. Skipping, but make sure this is intended.Removing the controller config for legs from self.part_controller_config. (robot.py:151)\n",
            "WARNING:robosuite_logs:The config has defined for the controller \"legs\", but the robot does not have this component. Skipping, but make sure this is intended.Removing the controller config for legs from self.part_controller_config.\n",
            "/usr/local/lib/python3.11/dist-packages/gymnasium/spaces/box.py:235: UserWarning: \u001b[33mWARN: Box low's precision lowered by casting to float32, current low.dtype=float64\u001b[0m\n",
            "  gym.logger.warn(\n",
            "/usr/local/lib/python3.11/dist-packages/gymnasium/spaces/box.py:305: UserWarning: \u001b[33mWARN: Box high's precision lowered by casting to float32, current high.dtype=float64\u001b[0m\n",
            "  gym.logger.warn(\n"
          ]
        }
      ]
    },
    {
      "cell_type": "code",
      "source": [
        "# Apply observation wrappers\n",
        "print(f\"Original Observation Space: {env.observation_space}\")\n",
        "env = ImageExtractWrapper(env, image_key=train_env_keys[0]) # Convert Dictionary Observation to Image Observation -> Box(0, 255, (64, 64, 3), uint8)\n",
        "env = gym.wrappers.ResizeObservation(env, (config.cameraHeight, config.cameraWidth)) # Resize image observation size -> Box(0, 255, (64, 64, 3), uint8)\n",
        "env = GymPixelsProcessingWrapper(env) # Rearrange Observation space -> Box(0.0, 1.0, (3, 64, 64), float32\n",
        "env = CleanGymWrapper(env) # Clean Gym Wrapper -> Box(0.0, 1.0, (3, 64, 64), float32)\n",
        "print(f\"New Observation Space{env.observation_space}\")\n",
        "print(\"Robosuite training environment initialized.\")"
      ],
      "metadata": {
        "colab": {
          "base_uri": "https://localhost:8080/"
        },
        "id": "6NsXsmz_oMt3",
        "outputId": "092eb5c8-f7d2-4ccd-da5a-407c9a646caa"
      },
      "execution_count": 16,
      "outputs": [
        {
          "output_type": "stream",
          "name": "stdout",
          "text": [
            "Original Observation Space: Dict('agentview_image': Box(0, 255, (64, 64, 3), uint8))\n",
            "New Observation SpaceBox(0.0, 1.0, (3, 64, 64), float32)\n",
            "Robosuite training environment initialized.\n"
          ]
        }
      ]
    },
    {
      "cell_type": "code",
      "source": [
        "print(\"Initializing Robosuite evaluation environment...\")\n",
        "robosuite_env_eval = suite.make(\n",
        "    env_name=config.environmentName,\n",
        "    robots=config.robotName,\n",
        "    controller_configs=suite.load_composite_controller_config(controller=config.controllerName),\n",
        "    has_renderer=config.evaluationRender,  # Enable for video saving if needed\n",
        "    has_offscreen_renderer=config.useCameraObs or config.evaluationRender, # Offscreen needed for rgb_array for video\n",
        "    use_camera_obs=config.useCameraObs,\n",
        "    camera_names=config.cameraName,\n",
        "    camera_heights=config.cameraHeight,\n",
        "    camera_widths=config.cameraWidth,\n",
        "    reward_shaping=config.rewardShaping, # Usually good to keep consistent with training\n",
        "    control_freq=config.controlFreq,\n",
        "    horizon=config.horizon,\n",
        "    # render_camera=config.cameraName # Or a different camera like \"frontview\" for videos\n",
        ")\n",
        "eval_env_keys = [f\"{config.cameraName}_image\"]\n",
        "envEvaluation = GymWrapper(robosuite_env_eval, keys=eval_env_keys, flatten_obs=False)\n"
      ],
      "metadata": {
        "colab": {
          "base_uri": "https://localhost:8080/"
        },
        "id": "uCkjN6Tjxm93",
        "outputId": "d267cdf4-7e9a-4dd7-e314-cb344ca022ee"
      },
      "execution_count": 18,
      "outputs": [
        {
          "output_type": "stream",
          "name": "stderr",
          "text": [
            "[robosuite INFO] Loading controller configuration from: /usr/local/lib/python3.11/dist-packages/robosuite/controllers/config/default/composite/basic.json (composite_controller_factory.py:121)\n",
            "INFO:robosuite_logs:Loading controller configuration from: /usr/local/lib/python3.11/dist-packages/robosuite/controllers/config/default/composite/basic.json\n"
          ]
        },
        {
          "output_type": "stream",
          "name": "stdout",
          "text": [
            "Initializing Robosuite evaluation environment...\n"
          ]
        },
        {
          "output_type": "stream",
          "name": "stderr",
          "text": [
            "[robosuite WARNING] The config has defined for the controller \"left\", but the robot does not have this component. Skipping, but make sure this is intended.Removing the controller config for left from self.part_controller_config. (robot.py:151)\n",
            "WARNING:robosuite_logs:The config has defined for the controller \"left\", but the robot does not have this component. Skipping, but make sure this is intended.Removing the controller config for left from self.part_controller_config.\n",
            "[robosuite WARNING] The config has defined for the controller \"torso\", but the robot does not have this component. Skipping, but make sure this is intended.Removing the controller config for torso from self.part_controller_config. (robot.py:151)\n",
            "WARNING:robosuite_logs:The config has defined for the controller \"torso\", but the robot does not have this component. Skipping, but make sure this is intended.Removing the controller config for torso from self.part_controller_config.\n",
            "[robosuite WARNING] The config has defined for the controller \"head\", but the robot does not have this component. Skipping, but make sure this is intended.Removing the controller config for head from self.part_controller_config. (robot.py:151)\n",
            "WARNING:robosuite_logs:The config has defined for the controller \"head\", but the robot does not have this component. Skipping, but make sure this is intended.Removing the controller config for head from self.part_controller_config.\n",
            "[robosuite WARNING] The config has defined for the controller \"base\", but the robot does not have this component. Skipping, but make sure this is intended.Removing the controller config for base from self.part_controller_config. (robot.py:151)\n",
            "WARNING:robosuite_logs:The config has defined for the controller \"base\", but the robot does not have this component. Skipping, but make sure this is intended.Removing the controller config for base from self.part_controller_config.\n",
            "[robosuite WARNING] The config has defined for the controller \"legs\", but the robot does not have this component. Skipping, but make sure this is intended.Removing the controller config for legs from self.part_controller_config. (robot.py:151)\n",
            "WARNING:robosuite_logs:The config has defined for the controller \"legs\", but the robot does not have this component. Skipping, but make sure this is intended.Removing the controller config for legs from self.part_controller_config.\n",
            "[robosuite WARNING] The config has defined for the controller \"left\", but the robot does not have this component. Skipping, but make sure this is intended.Removing the controller config for left from self.part_controller_config. (robot.py:151)\n",
            "WARNING:robosuite_logs:The config has defined for the controller \"left\", but the robot does not have this component. Skipping, but make sure this is intended.Removing the controller config for left from self.part_controller_config.\n",
            "[robosuite WARNING] The config has defined for the controller \"torso\", but the robot does not have this component. Skipping, but make sure this is intended.Removing the controller config for torso from self.part_controller_config. (robot.py:151)\n",
            "WARNING:robosuite_logs:The config has defined for the controller \"torso\", but the robot does not have this component. Skipping, but make sure this is intended.Removing the controller config for torso from self.part_controller_config.\n",
            "[robosuite WARNING] The config has defined for the controller \"head\", but the robot does not have this component. Skipping, but make sure this is intended.Removing the controller config for head from self.part_controller_config. (robot.py:151)\n",
            "WARNING:robosuite_logs:The config has defined for the controller \"head\", but the robot does not have this component. Skipping, but make sure this is intended.Removing the controller config for head from self.part_controller_config.\n",
            "[robosuite WARNING] The config has defined for the controller \"base\", but the robot does not have this component. Skipping, but make sure this is intended.Removing the controller config for base from self.part_controller_config. (robot.py:151)\n",
            "WARNING:robosuite_logs:The config has defined for the controller \"base\", but the robot does not have this component. Skipping, but make sure this is intended.Removing the controller config for base from self.part_controller_config.\n",
            "[robosuite WARNING] The config has defined for the controller \"legs\", but the robot does not have this component. Skipping, but make sure this is intended.Removing the controller config for legs from self.part_controller_config. (robot.py:151)\n",
            "WARNING:robosuite_logs:The config has defined for the controller \"legs\", but the robot does not have this component. Skipping, but make sure this is intended.Removing the controller config for legs from self.part_controller_config.\n",
            "/usr/local/lib/python3.11/dist-packages/gymnasium/spaces/box.py:235: UserWarning: \u001b[33mWARN: Box low's precision lowered by casting to float32, current low.dtype=float64\u001b[0m\n",
            "  gym.logger.warn(\n",
            "/usr/local/lib/python3.11/dist-packages/gymnasium/spaces/box.py:305: UserWarning: \u001b[33mWARN: Box high's precision lowered by casting to float32, current high.dtype=float64\u001b[0m\n",
            "  gym.logger.warn(\n"
          ]
        }
      ]
    },
    {
      "cell_type": "code",
      "source": [
        "# Apply observation wrappers\n",
        "print(f\"Original Observation Space: {envEvaluation.observation_space}\")\n",
        "envEvaluation = ImageExtractWrapper(envEvaluation, image_key=train_env_keys[0]) # Convert Dictionary Observation to Image Observation -> Box(0, 255, (64, 64, 3), uint8)\n",
        "envEvaluation = gym.wrappers.ResizeObservation(envEvaluation, (config.cameraHeight, config.cameraWidth)) # Resize image observation size -> Box(0, 255, (64, 64, 3), uint8)\n",
        "envEvaluation = GymPixelsProcessingWrapper(envEvaluation) # Rearrange Observation space -> Box(0.0, 1.0, (3, 64, 64), float32\n",
        "envEvaluation = CleanGymWrapper(envEvaluation) # Clean Gym Wrapper -> Box(0.0, 1.0, (3, 64, 64), float32)\n",
        "print(f\"New Observation Space{envEvaluation.observation_space}\")\n",
        "print(\"Robosuite training environment initialized.\")"
      ],
      "metadata": {
        "colab": {
          "base_uri": "https://localhost:8080/"
        },
        "id": "GQThmG-xx9Sy",
        "outputId": "40915eb8-6639-44c8-d6ed-7673e07f49c2"
      },
      "execution_count": 19,
      "outputs": [
        {
          "output_type": "stream",
          "name": "stdout",
          "text": [
            "Original Observation Space: Dict('agentview_image': Box(0, 255, (64, 64, 3), uint8))\n",
            "New Observation SpaceBox(0.0, 1.0, (3, 64, 64), float32)\n",
            "Robosuite training environment initialized.\n"
          ]
        }
      ]
    },
    {
      "cell_type": "code",
      "source": [
        "# This function should work with the wrapped environment\n",
        "observationShape, actionSize, actionLow, actionHigh = getEnvProperties(env)\n",
        "print(f\"Environment Properties: Observation Shape {observationShape}, Action Size {actionSize}, Action Low {actionLow}, Action High {actionHigh}\")\n",
        "if not config.useCameraObs:\n",
        "    print(\"Warning: 'useCameraObs' is False. The current Dreamer implementation primarily expects image observations for its Encoder. Ensure your network setup is appropriate for state-based observations if this is intended.\")"
      ],
      "metadata": {
        "colab": {
          "base_uri": "https://localhost:8080/"
        },
        "id": "PLB9IZb7yOY0",
        "outputId": "5e8ae60a-41b2-4fe1-bc58-f59d613194b7"
      },
      "execution_count": 20,
      "outputs": [
        {
          "output_type": "stream",
          "name": "stdout",
          "text": [
            "Environment Properties: Observation Shape (3, 64, 64), Action Size 7, Action Low [-1.0, -1.0, -1.0, -1.0, -1.0, -1.0, -1.0], Action High [1.0, 1.0, 1.0, 1.0, 1.0, 1.0, 1.0]\n"
          ]
        }
      ]
    },
    {
      "cell_type": "code",
      "source": [
        "print(\"Initializing Dreamer agent...\")\n",
        "dreamer = Dreamer(observationShape, actionSize, actionLow, actionHigh, device, config.dreamer)"
      ],
      "metadata": {
        "colab": {
          "base_uri": "https://localhost:8080/"
        },
        "id": "4a8M7024yZas",
        "outputId": "a20c2929-37ea-48a8-f697-4728283a2fc4"
      },
      "execution_count": 21,
      "outputs": [
        {
          "output_type": "stream",
          "name": "stdout",
          "text": [
            "Initializing Dreamer agent...\n"
          ]
        }
      ]
    },
    {
      "cell_type": "code",
      "source": [
        "print(\"Starting training from Scratch...\")\n",
        "dreamer.environmentInteraction(env, config.episodesBeforeStart, seed=config.seed)\n",
        "print(f\"Buffer size after initial collection: {len(dreamer.buffer)}\")"
      ],
      "metadata": {
        "collapsed": true,
        "colab": {
          "base_uri": "https://localhost:8080/"
        },
        "id": "VZiVVQL3yide",
        "outputId": "abb23190-9082-4fc3-8b79-52283ac6ca46"
      },
      "execution_count": 22,
      "outputs": [
        {
          "output_type": "stream",
          "name": "stdout",
          "text": [
            "Starting training from Scratch...\n"
          ]
        },
        {
          "output_type": "stream",
          "name": "stderr",
          "text": [
            "[robosuite WARNING] The config has defined for the controller \"left\", but the robot does not have this component. Skipping, but make sure this is intended.Removing the controller config for left from self.part_controller_config. (robot.py:151)\n",
            "WARNING:robosuite_logs:The config has defined for the controller \"left\", but the robot does not have this component. Skipping, but make sure this is intended.Removing the controller config for left from self.part_controller_config.\n",
            "[robosuite WARNING] The config has defined for the controller \"torso\", but the robot does not have this component. Skipping, but make sure this is intended.Removing the controller config for torso from self.part_controller_config. (robot.py:151)\n",
            "WARNING:robosuite_logs:The config has defined for the controller \"torso\", but the robot does not have this component. Skipping, but make sure this is intended.Removing the controller config for torso from self.part_controller_config.\n",
            "[robosuite WARNING] The config has defined for the controller \"head\", but the robot does not have this component. Skipping, but make sure this is intended.Removing the controller config for head from self.part_controller_config. (robot.py:151)\n",
            "WARNING:robosuite_logs:The config has defined for the controller \"head\", but the robot does not have this component. Skipping, but make sure this is intended.Removing the controller config for head from self.part_controller_config.\n",
            "[robosuite WARNING] The config has defined for the controller \"base\", but the robot does not have this component. Skipping, but make sure this is intended.Removing the controller config for base from self.part_controller_config. (robot.py:151)\n",
            "WARNING:robosuite_logs:The config has defined for the controller \"base\", but the robot does not have this component. Skipping, but make sure this is intended.Removing the controller config for base from self.part_controller_config.\n",
            "[robosuite WARNING] The config has defined for the controller \"legs\", but the robot does not have this component. Skipping, but make sure this is intended.Removing the controller config for legs from self.part_controller_config. (robot.py:151)\n",
            "WARNING:robosuite_logs:The config has defined for the controller \"legs\", but the robot does not have this component. Skipping, but make sure this is intended.Removing the controller config for legs from self.part_controller_config.\n",
            "[robosuite WARNING] The config has defined for the controller \"left\", but the robot does not have this component. Skipping, but make sure this is intended.Removing the controller config for left from self.part_controller_config. (robot.py:151)\n",
            "WARNING:robosuite_logs:The config has defined for the controller \"left\", but the robot does not have this component. Skipping, but make sure this is intended.Removing the controller config for left from self.part_controller_config.\n",
            "[robosuite WARNING] The config has defined for the controller \"torso\", but the robot does not have this component. Skipping, but make sure this is intended.Removing the controller config for torso from self.part_controller_config. (robot.py:151)\n",
            "WARNING:robosuite_logs:The config has defined for the controller \"torso\", but the robot does not have this component. Skipping, but make sure this is intended.Removing the controller config for torso from self.part_controller_config.\n",
            "[robosuite WARNING] The config has defined for the controller \"head\", but the robot does not have this component. Skipping, but make sure this is intended.Removing the controller config for head from self.part_controller_config. (robot.py:151)\n",
            "WARNING:robosuite_logs:The config has defined for the controller \"head\", but the robot does not have this component. Skipping, but make sure this is intended.Removing the controller config for head from self.part_controller_config.\n",
            "[robosuite WARNING] The config has defined for the controller \"base\", but the robot does not have this component. Skipping, but make sure this is intended.Removing the controller config for base from self.part_controller_config. (robot.py:151)\n",
            "WARNING:robosuite_logs:The config has defined for the controller \"base\", but the robot does not have this component. Skipping, but make sure this is intended.Removing the controller config for base from self.part_controller_config.\n",
            "[robosuite WARNING] The config has defined for the controller \"legs\", but the robot does not have this component. Skipping, but make sure this is intended.Removing the controller config for legs from self.part_controller_config. (robot.py:151)\n",
            "WARNING:robosuite_logs:The config has defined for the controller \"legs\", but the robot does not have this component. Skipping, but make sure this is intended.Removing the controller config for legs from self.part_controller_config.\n",
            "[robosuite WARNING] The config has defined for the controller \"left\", but the robot does not have this component. Skipping, but make sure this is intended.Removing the controller config for left from self.part_controller_config. (robot.py:151)\n",
            "WARNING:robosuite_logs:The config has defined for the controller \"left\", but the robot does not have this component. Skipping, but make sure this is intended.Removing the controller config for left from self.part_controller_config.\n",
            "[robosuite WARNING] The config has defined for the controller \"torso\", but the robot does not have this component. Skipping, but make sure this is intended.Removing the controller config for torso from self.part_controller_config. (robot.py:151)\n",
            "WARNING:robosuite_logs:The config has defined for the controller \"torso\", but the robot does not have this component. Skipping, but make sure this is intended.Removing the controller config for torso from self.part_controller_config.\n",
            "[robosuite WARNING] The config has defined for the controller \"head\", but the robot does not have this component. Skipping, but make sure this is intended.Removing the controller config for head from self.part_controller_config. (robot.py:151)\n",
            "WARNING:robosuite_logs:The config has defined for the controller \"head\", but the robot does not have this component. Skipping, but make sure this is intended.Removing the controller config for head from self.part_controller_config.\n",
            "[robosuite WARNING] The config has defined for the controller \"base\", but the robot does not have this component. Skipping, but make sure this is intended.Removing the controller config for base from self.part_controller_config. (robot.py:151)\n",
            "WARNING:robosuite_logs:The config has defined for the controller \"base\", but the robot does not have this component. Skipping, but make sure this is intended.Removing the controller config for base from self.part_controller_config.\n",
            "[robosuite WARNING] The config has defined for the controller \"legs\", but the robot does not have this component. Skipping, but make sure this is intended.Removing the controller config for legs from self.part_controller_config. (robot.py:151)\n",
            "WARNING:robosuite_logs:The config has defined for the controller \"legs\", but the robot does not have this component. Skipping, but make sure this is intended.Removing the controller config for legs from self.part_controller_config.\n",
            "[robosuite WARNING] The config has defined for the controller \"left\", but the robot does not have this component. Skipping, but make sure this is intended.Removing the controller config for left from self.part_controller_config. (robot.py:151)\n",
            "WARNING:robosuite_logs:The config has defined for the controller \"left\", but the robot does not have this component. Skipping, but make sure this is intended.Removing the controller config for left from self.part_controller_config.\n",
            "[robosuite WARNING] The config has defined for the controller \"torso\", but the robot does not have this component. Skipping, but make sure this is intended.Removing the controller config for torso from self.part_controller_config. (robot.py:151)\n",
            "WARNING:robosuite_logs:The config has defined for the controller \"torso\", but the robot does not have this component. Skipping, but make sure this is intended.Removing the controller config for torso from self.part_controller_config.\n",
            "[robosuite WARNING] The config has defined for the controller \"head\", but the robot does not have this component. Skipping, but make sure this is intended.Removing the controller config for head from self.part_controller_config. (robot.py:151)\n",
            "WARNING:robosuite_logs:The config has defined for the controller \"head\", but the robot does not have this component. Skipping, but make sure this is intended.Removing the controller config for head from self.part_controller_config.\n",
            "[robosuite WARNING] The config has defined for the controller \"base\", but the robot does not have this component. Skipping, but make sure this is intended.Removing the controller config for base from self.part_controller_config. (robot.py:151)\n",
            "WARNING:robosuite_logs:The config has defined for the controller \"base\", but the robot does not have this component. Skipping, but make sure this is intended.Removing the controller config for base from self.part_controller_config.\n",
            "[robosuite WARNING] The config has defined for the controller \"legs\", but the robot does not have this component. Skipping, but make sure this is intended.Removing the controller config for legs from self.part_controller_config. (robot.py:151)\n",
            "WARNING:robosuite_logs:The config has defined for the controller \"legs\", but the robot does not have this component. Skipping, but make sure this is intended.Removing the controller config for legs from self.part_controller_config.\n",
            "[robosuite WARNING] The config has defined for the controller \"left\", but the robot does not have this component. Skipping, but make sure this is intended.Removing the controller config for left from self.part_controller_config. (robot.py:151)\n",
            "WARNING:robosuite_logs:The config has defined for the controller \"left\", but the robot does not have this component. Skipping, but make sure this is intended.Removing the controller config for left from self.part_controller_config.\n",
            "[robosuite WARNING] The config has defined for the controller \"torso\", but the robot does not have this component. Skipping, but make sure this is intended.Removing the controller config for torso from self.part_controller_config. (robot.py:151)\n",
            "WARNING:robosuite_logs:The config has defined for the controller \"torso\", but the robot does not have this component. Skipping, but make sure this is intended.Removing the controller config for torso from self.part_controller_config.\n",
            "[robosuite WARNING] The config has defined for the controller \"head\", but the robot does not have this component. Skipping, but make sure this is intended.Removing the controller config for head from self.part_controller_config. (robot.py:151)\n",
            "WARNING:robosuite_logs:The config has defined for the controller \"head\", but the robot does not have this component. Skipping, but make sure this is intended.Removing the controller config for head from self.part_controller_config.\n",
            "[robosuite WARNING] The config has defined for the controller \"base\", but the robot does not have this component. Skipping, but make sure this is intended.Removing the controller config for base from self.part_controller_config. (robot.py:151)\n",
            "WARNING:robosuite_logs:The config has defined for the controller \"base\", but the robot does not have this component. Skipping, but make sure this is intended.Removing the controller config for base from self.part_controller_config.\n",
            "[robosuite WARNING] The config has defined for the controller \"legs\", but the robot does not have this component. Skipping, but make sure this is intended.Removing the controller config for legs from self.part_controller_config. (robot.py:151)\n",
            "WARNING:robosuite_logs:The config has defined for the controller \"legs\", but the robot does not have this component. Skipping, but make sure this is intended.Removing the controller config for legs from self.part_controller_config.\n",
            "[robosuite WARNING] The config has defined for the controller \"left\", but the robot does not have this component. Skipping, but make sure this is intended.Removing the controller config for left from self.part_controller_config. (robot.py:151)\n",
            "WARNING:robosuite_logs:The config has defined for the controller \"left\", but the robot does not have this component. Skipping, but make sure this is intended.Removing the controller config for left from self.part_controller_config.\n",
            "[robosuite WARNING] The config has defined for the controller \"torso\", but the robot does not have this component. Skipping, but make sure this is intended.Removing the controller config for torso from self.part_controller_config. (robot.py:151)\n",
            "WARNING:robosuite_logs:The config has defined for the controller \"torso\", but the robot does not have this component. Skipping, but make sure this is intended.Removing the controller config for torso from self.part_controller_config.\n",
            "[robosuite WARNING] The config has defined for the controller \"head\", but the robot does not have this component. Skipping, but make sure this is intended.Removing the controller config for head from self.part_controller_config. (robot.py:151)\n",
            "WARNING:robosuite_logs:The config has defined for the controller \"head\", but the robot does not have this component. Skipping, but make sure this is intended.Removing the controller config for head from self.part_controller_config.\n",
            "[robosuite WARNING] The config has defined for the controller \"base\", but the robot does not have this component. Skipping, but make sure this is intended.Removing the controller config for base from self.part_controller_config. (robot.py:151)\n",
            "WARNING:robosuite_logs:The config has defined for the controller \"base\", but the robot does not have this component. Skipping, but make sure this is intended.Removing the controller config for base from self.part_controller_config.\n",
            "[robosuite WARNING] The config has defined for the controller \"legs\", but the robot does not have this component. Skipping, but make sure this is intended.Removing the controller config for legs from self.part_controller_config. (robot.py:151)\n",
            "WARNING:robosuite_logs:The config has defined for the controller \"legs\", but the robot does not have this component. Skipping, but make sure this is intended.Removing the controller config for legs from self.part_controller_config.\n",
            "[robosuite WARNING] The config has defined for the controller \"left\", but the robot does not have this component. Skipping, but make sure this is intended.Removing the controller config for left from self.part_controller_config. (robot.py:151)\n",
            "WARNING:robosuite_logs:The config has defined for the controller \"left\", but the robot does not have this component. Skipping, but make sure this is intended.Removing the controller config for left from self.part_controller_config.\n",
            "[robosuite WARNING] The config has defined for the controller \"torso\", but the robot does not have this component. Skipping, but make sure this is intended.Removing the controller config for torso from self.part_controller_config. (robot.py:151)\n",
            "WARNING:robosuite_logs:The config has defined for the controller \"torso\", but the robot does not have this component. Skipping, but make sure this is intended.Removing the controller config for torso from self.part_controller_config.\n",
            "[robosuite WARNING] The config has defined for the controller \"head\", but the robot does not have this component. Skipping, but make sure this is intended.Removing the controller config for head from self.part_controller_config. (robot.py:151)\n",
            "WARNING:robosuite_logs:The config has defined for the controller \"head\", but the robot does not have this component. Skipping, but make sure this is intended.Removing the controller config for head from self.part_controller_config.\n",
            "[robosuite WARNING] The config has defined for the controller \"base\", but the robot does not have this component. Skipping, but make sure this is intended.Removing the controller config for base from self.part_controller_config. (robot.py:151)\n",
            "WARNING:robosuite_logs:The config has defined for the controller \"base\", but the robot does not have this component. Skipping, but make sure this is intended.Removing the controller config for base from self.part_controller_config.\n",
            "[robosuite WARNING] The config has defined for the controller \"legs\", but the robot does not have this component. Skipping, but make sure this is intended.Removing the controller config for legs from self.part_controller_config. (robot.py:151)\n",
            "WARNING:robosuite_logs:The config has defined for the controller \"legs\", but the robot does not have this component. Skipping, but make sure this is intended.Removing the controller config for legs from self.part_controller_config.\n",
            "[robosuite WARNING] The config has defined for the controller \"left\", but the robot does not have this component. Skipping, but make sure this is intended.Removing the controller config for left from self.part_controller_config. (robot.py:151)\n",
            "WARNING:robosuite_logs:The config has defined for the controller \"left\", but the robot does not have this component. Skipping, but make sure this is intended.Removing the controller config for left from self.part_controller_config.\n",
            "[robosuite WARNING] The config has defined for the controller \"torso\", but the robot does not have this component. Skipping, but make sure this is intended.Removing the controller config for torso from self.part_controller_config. (robot.py:151)\n",
            "WARNING:robosuite_logs:The config has defined for the controller \"torso\", but the robot does not have this component. Skipping, but make sure this is intended.Removing the controller config for torso from self.part_controller_config.\n",
            "[robosuite WARNING] The config has defined for the controller \"head\", but the robot does not have this component. Skipping, but make sure this is intended.Removing the controller config for head from self.part_controller_config. (robot.py:151)\n",
            "WARNING:robosuite_logs:The config has defined for the controller \"head\", but the robot does not have this component. Skipping, but make sure this is intended.Removing the controller config for head from self.part_controller_config.\n",
            "[robosuite WARNING] The config has defined for the controller \"base\", but the robot does not have this component. Skipping, but make sure this is intended.Removing the controller config for base from self.part_controller_config. (robot.py:151)\n",
            "WARNING:robosuite_logs:The config has defined for the controller \"base\", but the robot does not have this component. Skipping, but make sure this is intended.Removing the controller config for base from self.part_controller_config.\n",
            "[robosuite WARNING] The config has defined for the controller \"legs\", but the robot does not have this component. Skipping, but make sure this is intended.Removing the controller config for legs from self.part_controller_config. (robot.py:151)\n",
            "WARNING:robosuite_logs:The config has defined for the controller \"legs\", but the robot does not have this component. Skipping, but make sure this is intended.Removing the controller config for legs from self.part_controller_config.\n",
            "[robosuite WARNING] The config has defined for the controller \"left\", but the robot does not have this component. Skipping, but make sure this is intended.Removing the controller config for left from self.part_controller_config. (robot.py:151)\n",
            "WARNING:robosuite_logs:The config has defined for the controller \"left\", but the robot does not have this component. Skipping, but make sure this is intended.Removing the controller config for left from self.part_controller_config.\n",
            "[robosuite WARNING] The config has defined for the controller \"torso\", but the robot does not have this component. Skipping, but make sure this is intended.Removing the controller config for torso from self.part_controller_config. (robot.py:151)\n",
            "WARNING:robosuite_logs:The config has defined for the controller \"torso\", but the robot does not have this component. Skipping, but make sure this is intended.Removing the controller config for torso from self.part_controller_config.\n",
            "[robosuite WARNING] The config has defined for the controller \"head\", but the robot does not have this component. Skipping, but make sure this is intended.Removing the controller config for head from self.part_controller_config. (robot.py:151)\n",
            "WARNING:robosuite_logs:The config has defined for the controller \"head\", but the robot does not have this component. Skipping, but make sure this is intended.Removing the controller config for head from self.part_controller_config.\n",
            "[robosuite WARNING] The config has defined for the controller \"base\", but the robot does not have this component. Skipping, but make sure this is intended.Removing the controller config for base from self.part_controller_config. (robot.py:151)\n",
            "WARNING:robosuite_logs:The config has defined for the controller \"base\", but the robot does not have this component. Skipping, but make sure this is intended.Removing the controller config for base from self.part_controller_config.\n",
            "[robosuite WARNING] The config has defined for the controller \"legs\", but the robot does not have this component. Skipping, but make sure this is intended.Removing the controller config for legs from self.part_controller_config. (robot.py:151)\n",
            "WARNING:robosuite_logs:The config has defined for the controller \"legs\", but the robot does not have this component. Skipping, but make sure this is intended.Removing the controller config for legs from self.part_controller_config.\n",
            "[robosuite WARNING] The config has defined for the controller \"left\", but the robot does not have this component. Skipping, but make sure this is intended.Removing the controller config for left from self.part_controller_config. (robot.py:151)\n",
            "WARNING:robosuite_logs:The config has defined for the controller \"left\", but the robot does not have this component. Skipping, but make sure this is intended.Removing the controller config for left from self.part_controller_config.\n",
            "[robosuite WARNING] The config has defined for the controller \"torso\", but the robot does not have this component. Skipping, but make sure this is intended.Removing the controller config for torso from self.part_controller_config. (robot.py:151)\n",
            "WARNING:robosuite_logs:The config has defined for the controller \"torso\", but the robot does not have this component. Skipping, but make sure this is intended.Removing the controller config for torso from self.part_controller_config.\n",
            "[robosuite WARNING] The config has defined for the controller \"head\", but the robot does not have this component. Skipping, but make sure this is intended.Removing the controller config for head from self.part_controller_config. (robot.py:151)\n",
            "WARNING:robosuite_logs:The config has defined for the controller \"head\", but the robot does not have this component. Skipping, but make sure this is intended.Removing the controller config for head from self.part_controller_config.\n",
            "[robosuite WARNING] The config has defined for the controller \"base\", but the robot does not have this component. Skipping, but make sure this is intended.Removing the controller config for base from self.part_controller_config. (robot.py:151)\n",
            "WARNING:robosuite_logs:The config has defined for the controller \"base\", but the robot does not have this component. Skipping, but make sure this is intended.Removing the controller config for base from self.part_controller_config.\n",
            "[robosuite WARNING] The config has defined for the controller \"legs\", but the robot does not have this component. Skipping, but make sure this is intended.Removing the controller config for legs from self.part_controller_config. (robot.py:151)\n",
            "WARNING:robosuite_logs:The config has defined for the controller \"legs\", but the robot does not have this component. Skipping, but make sure this is intended.Removing the controller config for legs from self.part_controller_config.\n"
          ]
        },
        {
          "output_type": "stream",
          "name": "stdout",
          "text": [
            "Buffer size after initial collection: 5000\n"
          ]
        }
      ]
    },
    {
      "cell_type": "code",
      "source": [
        "iterationsNum = config.gradientSteps // config.replayRatio\n",
        "print(f\"Starting training for {config.gradientSteps} gradient steps, with {iterationsNum} outer iterations.\")\n",
        "\n",
        "for iter_idx in tqdm(range(iterationsNum), desc=\"Training Progress\"):\n",
        "    # Inner loop for gradient updates\n",
        "\n",
        "    for _ in range(config.replayRatio):\n",
        "\n",
        "        if len(dreamer.buffer) < dreamer.config.batchSize * dreamer.config.batchLength: # Ensure enough data for a full sequence batch\n",
        "            print(f\"Buffer has {len(dreamer.buffer)} samples, less than required {dreamer.config.batchSize * dreamer.config.batchLength}. Collecting more...\")\n",
        "            dreamer.environmentInteraction(env, 1, seed=(config.seed + dreamer.totalEpisodes if config.seed else None)) # Collect one more episode\n",
        "\n",
        "            if len(dreamer.buffer) < dreamer.config.batchSize * dreamer.config.batchLength:\n",
        "                continue # Skip training step if still not enough data\n",
        "\n",
        "        sampledData = dreamer.buffer.sample(dreamer.config.batchSize, dreamer.config.batchLength)\n",
        "        initialStates, worldModelMetrics = dreamer.worldModelTraining(sampledData)\n",
        "        behaviorMetrics = dreamer.behaviorTraining(initialStates)\n",
        "        dreamer.totalGradientSteps += 1\n",
        "\n",
        "        # Checkpoint saving and evaluation\n",
        "        if dreamer.totalGradientSteps % config.checkpointInterval == 0 and config.saveCheckpoints:\n",
        "            suffix = f\"{dreamer.totalGradientSteps // 1000:.0f}k\"\n",
        "            currentCheckpointPath = f\"{checkpointFilenameBase}_{suffix}.pth\"\n",
        "            dreamer.saveCheckpoint(currentCheckpointPath)\n",
        "\n",
        "            # Perform evaluation\n",
        "            video_path_suffix = f\"{runName}_{suffix}\"\n",
        "            evaluationScore = dreamer.environmentInteraction(\n",
        "                envEvaluation,\n",
        "                config.numEvaluationEpisodes,\n",
        "                seed=(config.seed + dreamer.totalEpisodes if config.seed else None), # Use a different seed for eval if desired\n",
        "                evaluation=True,\n",
        "                saveVideo=True,\n",
        "                filename=os.path.join(config.folderNames.videosFolder, video_path_suffix) # Pass full path\n",
        "            )\n",
        "            print(f\"Iter {iter_idx+1}/{iterationsNum} | Grad Steps {dreamer.totalGradientSteps} | Saved Checkpoint: {currentCheckpointPath} | Eval Score: {evaluationScore if evaluationScore is not None else 'N/A':>8.2f}\")\n",
        "\n",
        "    # Collect more environment interactions\n",
        "    mostRecentScore = dreamer.environmentInteraction(env, config.numInteractionEpisodes, seed=(config.seed + dreamer.totalEpisodes if config.seed else None))\n",
        "\n",
        "    # Save metrics\n",
        "    if config.saveMetrics:\n",
        "        metricsBase = {\n",
        "            \"envSteps\": dreamer.totalEnvSteps,\n",
        "            \"gradientSteps\": dreamer.totalGradientSteps,\n",
        "            \"totalReward\": mostRecentScore if mostRecentScore is not None else float('nan')\n",
        "        }\n",
        "        # Merge all metrics dictionaries\n",
        "        all_metrics = {**metricsBase, **worldModelMetrics, **behaviorMetrics}\n",
        "        saveLossesToCSV(metricsFilename, all_metrics)\n",
        "\n",
        "        # Plot metrics (can be slow, consider doing it less frequently if performance is an issue)\n",
        "        if dreamer.totalGradientSteps % (config.checkpointInterval * 5) == 0: # Plot less frequently\n",
        "              plotMetrics(f\"{metricsFilename}\", savePath=f\"{plotFilename}\", title=f\"{config.environmentName} {config.robotName} - {config.runName}\")\n",
        "\n",
        "print(\"Training finished.\")\n",
        "\n",
        "# Final plot\n",
        "if config.saveMetrics:\n",
        "    plotMetrics(f\"{metricsFilename}\", savePath=f\"{plotFilename}\", title=f\"{config.environmentName} {config.robotName} - {config.runName} (Final)\")\n",
        "env.close()\n",
        "envEvaluation.close()\n",
        "\n"
      ],
      "metadata": {
        "id": "0Gr8XQGZy2r7"
      },
      "execution_count": null,
      "outputs": []
    },
    {
      "cell_type": "code",
      "source": [
        "# Sync with colab\n",
        "!git config --global user.email \"aman.chulawala@gmail.com\"\n",
        "!git add .\n",
        "!git commit -m \"Colab Push -> Added Image Wrapper for robosuite\"\n",
        "!git push https://<PAT>@github.com/FarStryke21/NaturalDreamer.git"
      ],
      "metadata": {
        "id": "cf7VK6qq1CAY",
        "outputId": "0197db1b-29a1-43c5-d3e8-66de99172e60",
        "colab": {
          "base_uri": "https://localhost:8080/"
        }
      },
      "execution_count": 26,
      "outputs": [
        {
          "output_type": "stream",
          "name": "stdout",
          "text": [
            "On branch main\n",
            "Your branch is ahead of 'origin/main' by 1 commit.\n",
            "  (use \"git push\" to publish your local commits)\n",
            "\n",
            "nothing to commit, working tree clean\n",
            "fatal: could not read Username for 'https://github.com': No such device or address\n"
          ]
        }
      ]
    }
  ]
}